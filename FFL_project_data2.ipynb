{
 "cells": [
  {
   "cell_type": "code",
   "execution_count": null,
   "metadata": {},
   "outputs": [],
   "source": [
    "import pandas as pd\n",
    "import sys\n",
    "import os"
   ]
  },
  {
   "cell_type": "markdown",
   "metadata": {},
   "source": [
    "Hello Welcome to My Fantasy Football Project. I made this Juptyer notebook so that the code is easier to follow along with. You can run all the code in this Jupyter Notebook, or you can run main.py"
   ]
  },
  {
   "cell_type": "markdown",
   "metadata": {},
   "source": [
    "The code below sets the path for the Fantasy Football yearly data.  \n",
    "`path=\"yearly\"` sets the path in which we want to look for the data files  \n",
    "`files=os.listdir(path)` creates a list of all of the files and directories in the path we are looking at. In this case there are only files in the path."
   ]
  },
  {
   "cell_type": "code",
   "execution_count": 693,
   "metadata": {},
   "outputs": [
    {
     "name": "stdout",
     "output_type": "stream",
     "text": [
      "50\n"
     ]
    }
   ],
   "source": [
    "path=\"yearly/\"\n",
    "files=os.listdir(path)\n",
    "#count=len(files)\n",
    "#print(count)"
   ]
  },
  {
   "cell_type": "markdown",
   "metadata": {},
   "source": [
    "The code initiates a list\n",
    "`df_list=[]` initiates a list to hold my list of data frames from the for loop in the subsequent code block\n"
   ]
  },
  {
   "cell_type": "code",
   "execution_count": null,
   "metadata": {},
   "outputs": [],
   "source": [
    "df_list=[]"
   ]
  },
  {
   "cell_type": "markdown",
   "metadata": {},
   "source": [
    "The code below loops over the list of files created above.  \n",
    "`data=pd.read_csv(path+f)` this will read the CSV file in each iteration of the loop and convert it to a data frame.\n",
    "`data[\"Year\"]=f[:4]` creates a new column in each data frame titled \"Year\". The year is stipped from the string name of the current CSV file in the interation. The digits in index position 3,2,1 and 0 are returned to give us the year in which the player's stats are from.\n",
    "`df_list.append(data)` appends each newly created data frame to `df_list` which holds the list."
   ]
  },
  {
   "cell_type": "code",
   "execution_count": null,
   "metadata": {},
   "outputs": [],
   "source": [
    "for f in files:\n",
    "    data=pd.read_csv(path+f)\n",
    "    data[\"Year\"]=f[:4]\n",
    "    df_list.append(data)  \n",
    "    print(type(df_list))  \n"
   ]
  },
  {
   "cell_type": "markdown",
   "metadata": {},
   "source": [
    "The code below concatenates or appends all the dataframes in `df_list` into one large data frame."
   ]
  },
  {
   "cell_type": "code",
   "execution_count": null,
   "metadata": {},
   "outputs": [],
   "source": [
    "appended_data=pd.concat(df_list)\n",
    "\n"
   ]
  },
  {
   "cell_type": "markdown",
   "metadata": {},
   "source": [
    "The code below drops one of the unneccesary columns.  \n",
    " `appended_data.drop(['Unnamed: 0'],axis=1,inplace=True)` removes the column with a header \"Unamed:0\".\n",
    " I then print the data frame to make sure it looks as I expect, this is not a necessary step, but rather one I used for verification."
   ]
  },
  {
   "cell_type": "code",
   "execution_count": null,
   "metadata": {},
   "outputs": [],
   "source": [
    "appended_data.drop(['Unnamed: 0'],axis=1,inplace=True)\n",
    "appended_data\n"
   ]
  },
  {
   "cell_type": "markdown",
   "metadata": {},
   "source": [
    "The code below drops one of the unneccesary columns.  \n",
    " `appended_data=appended_data.query(\"Pos != '0'\")` filters and removes all row for which a Player is listed, but their position is not.\n",
    " I then print the data frame to make sure it looks as I expect, this is not a necessary step, but rather one I used for verification."
   ]
  },
  {
   "cell_type": "code",
   "execution_count": null,
   "metadata": {},
   "outputs": [],
   "source": [
    "appended_data=appended_data.query(\"Pos != '0'\")\n",
    "appended_data"
   ]
  },
  {
   "cell_type": "markdown",
   "metadata": {},
   "source": [
    "The code below drops one of the unneccesary columns.  \n",
    " `appended_data.to_csv(\"Appended_FFL_data.csv\",index=False)` converts the final large data frame to a CSV file so that it can be used in Tableau."
   ]
  },
  {
   "cell_type": "code",
   "execution_count": null,
   "metadata": {},
   "outputs": [],
   "source": [
    "appended_data.to_csv(\"Appended_FFL_data.csv\",index=False)"
   ]
  },
  {
   "cell_type": "markdown",
   "metadata": {},
   "source": [
    "The code below drops one of the unneccesary columns.  \n",
    " `print(\"Your Master CSV file has been created!\")` prints a message to the user stating that the desired file has been created."
   ]
  },
  {
   "cell_type": "code",
   "execution_count": null,
   "metadata": {},
   "outputs": [],
   "source": [
    "print(\"Your Master CSV file has been created!\")"
   ]
  }
 ],
 "metadata": {
  "kernelspec": {
   "display_name": "Python 3.10.5 ('d2projvenv')",
   "language": "python",
   "name": "python3"
  },
  "language_info": {
   "codemirror_mode": {
    "name": "ipython",
    "version": 3
   },
   "file_extension": ".py",
   "mimetype": "text/x-python",
   "name": "python",
   "nbconvert_exporter": "python",
   "pygments_lexer": "ipython3",
   "version": "3.10.5"
  },
  "orig_nbformat": 4,
  "vscode": {
   "interpreter": {
    "hash": "8ffb71e5e157b103ea71f54e1f582c3410595c98eed4549529fab87d5402a858"
   }
  }
 },
 "nbformat": 4,
 "nbformat_minor": 2
}
